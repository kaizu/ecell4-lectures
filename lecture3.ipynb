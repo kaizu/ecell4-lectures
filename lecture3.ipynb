{
 "cells": [
  {
   "cell_type": "markdown",
   "metadata": {
    "slideshow": {
     "slide_type": "slide"
    }
   },
   "source": [
    "# <p style=\"text-align:center\">Lecture 3. E-Cell4の構造</p>"
   ]
  },
  {
   "cell_type": "markdown",
   "metadata": {},
   "source": [
    "<p style=\"text-align:center;font-size:150%;line-height:150%\">海津一成</p>"
   ]
  },
  {
   "cell_type": "code",
   "execution_count": 1,
   "metadata": {
    "collapsed": true,
    "slideshow": {
     "slide_type": "skip"
    }
   },
   "outputs": [],
   "source": [
    "%matplotlib inline\n",
    "from ecell4 import *"
   ]
  },
  {
   "cell_type": "code",
   "execution_count": 2,
   "metadata": {
    "collapsed": false,
    "slideshow": {
     "slide_type": "skip"
    }
   },
   "outputs": [],
   "source": [
    "import seaborn\n",
    "seaborn.set(font_scale=1.5)"
   ]
  },
  {
   "cell_type": "code",
   "execution_count": 3,
   "metadata": {
    "collapsed": false,
    "slideshow": {
     "slide_type": "skip"
    }
   },
   "outputs": [],
   "source": [
    "import matplotlib as mpl\n",
    "# mpl.rc(\"figure\", figsize=(8.0, 5.5))\n",
    "mpl.rc(\"figure\", figsize=(6, 4))"
   ]
  },
  {
   "cell_type": "markdown",
   "metadata": {
    "slideshow": {
     "slide_type": "slide"
    }
   },
   "source": [
    "## E-Cell4の基本要素\n",
    "\n",
    "E-Cell4を使う上で理解しなければならない3つの要素として`Model`、`World`、`Simulator`があり、計算における異なる概念をあらわしている。"
   ]
  },
  {
   "cell_type": "markdown",
   "metadata": {
    "slideshow": {
     "slide_type": "fragment"
    }
   },
   "source": [
    "- `Model`: いわゆるモデル。分子の特徴量（拡散定数、大きさなど）や反応を記述したもの。具体的には`NetworkModel`を使う。"
   ]
  },
  {
   "cell_type": "markdown",
   "metadata": {
    "slideshow": {
     "slide_type": "fragment"
    }
   },
   "source": [
    "- `World`: ある時刻における状態をあらわすもの。分子の数や位置、空間の表現法など。使う`World`はアルゴリズムによって異なる. 例えば、`ode.ODEWorld`みたいな感じ。"
   ]
  },
  {
   "cell_type": "markdown",
   "metadata": {
    "slideshow": {
     "slide_type": "fragment"
    }
   },
   "source": [
    "- Simulator: 時間発展に関する計算手法をまとめたもの。ソルバーとも言う。例えば、`ode.ODESimulator`みたいな感じ。"
   ]
  },
  {
   "cell_type": "markdown",
   "metadata": {
    "slideshow": {
     "slide_type": "slide"
    }
   },
   "source": [
    "## E-Cell4におけるModelの基本"
   ]
  },
  {
   "cell_type": "markdown",
   "metadata": {
    "slideshow": {
     "slide_type": "fragment"
    }
   },
   "source": [
    "Modelは扱う問題を記述したもので、大きく2つの要素によって構成されている。\n",
    "\n",
    "- `Species`: すなわち分子種。モデルに登場する実体をあらわす。\n",
    "- `ReactionRule`: すなわち反応則。分子種（`Species`）間の相互作用をあらわす。"
   ]
  },
  {
   "cell_type": "markdown",
   "metadata": {
    "slideshow": {
     "slide_type": "fragment"
    }
   },
   "source": [
    "E-Cell4では主に化学反応を扱うので、それを例に言えば\n",
    "\n",
    "- `Species`: 基質や酵素などどんな種類の分子が存在し、それらがどのような性質 (分子の大きさなど)を持つかをあらわす。\n",
    "- `ReactionRule`: 結合やかい離などそれら分子間にどのような反応があるかをあらわす。"
   ]
  },
  {
   "cell_type": "markdown",
   "metadata": {
    "slideshow": {
     "slide_type": "slide"
    }
   },
   "source": [
    "## 分子種 `Species`\n",
    "\n",
    "E-Cell4を使って`Species`を作るには"
   ]
  },
  {
   "cell_type": "code",
   "execution_count": 4,
   "metadata": {
    "collapsed": true
   },
   "outputs": [],
   "source": [
    "A = Species('A')\n",
    "B = Species('B')"
   ]
  },
  {
   "cell_type": "markdown",
   "metadata": {},
   "source": [
    "とすれば良い。\n",
    "\n",
    "それぞれ、AとBという名前の分子種をあらわす。1個の特定の分子ではなく、そういう種類の分子があることを意味している。"
   ]
  },
  {
   "cell_type": "markdown",
   "metadata": {
    "slideshow": {
     "slide_type": "subslide"
    }
   },
   "source": [
    "`Species`には任意の属性を持たせることで、どのような性質を持つのかを指定できる。"
   ]
  },
  {
   "cell_type": "code",
   "execution_count": 5,
   "metadata": {
    "collapsed": true
   },
   "outputs": [],
   "source": [
    "A = Species(\"A\")\n",
    "A.set_attribute(\"radius\", \"0.005\")\n",
    "A.set_attribute(\"D\", \"1\")\n",
    "A.set_attribute(\"location\", \"cytoplasm\")"
   ]
  },
  {
   "cell_type": "markdown",
   "metadata": {},
   "source": [
    "1つ目に与える引数が属性名で、2つ目がその値で、どちらも文字列でなければならない。"
   ]
  },
  {
   "cell_type": "markdown",
   "metadata": {
    "slideshow": {
     "slide_type": "fragment"
    }
   },
   "source": [
    "属性のうち特に分子径、拡散係数、属する場所は頻繁に用いられるので簡単に"
   ]
  },
  {
   "cell_type": "code",
   "execution_count": 6,
   "metadata": {
    "collapsed": true
   },
   "outputs": [],
   "source": [
    "A = Species(\"A\", \"0.005\", \"1\", \"cytoplasm\")  # XXX: serial, radius, D, location"
   ]
  },
  {
   "cell_type": "markdown",
   "metadata": {},
   "source": [
    "でまとめて与えることができる。"
   ]
  },
  {
   "cell_type": "markdown",
   "metadata": {
    "slideshow": {
     "slide_type": "subslide"
    }
   },
   "source": [
    "与えたSpeciesの属性を知りたいときは"
   ]
  },
  {
   "cell_type": "code",
   "execution_count": 7,
   "metadata": {
    "collapsed": false
   },
   "outputs": [
    {
     "name": "stdout",
     "output_type": "stream",
     "text": [
      "A\n",
      "0.005\n",
      "1\n",
      "cytoplasm\n"
     ]
    }
   ],
   "source": [
    "print(A.serial())\n",
    "print(A.get_attribute(\"radius\"))\n",
    "print(A.get_attribute(\"D\"))\n",
    "print(A.get_attribute(\"location\"))"
   ]
  },
  {
   "cell_type": "markdown",
   "metadata": {},
   "source": [
    "とすれば良い。"
   ]
  },
  {
   "cell_type": "code",
   "execution_count": 8,
   "metadata": {
    "collapsed": true,
    "slideshow": {
     "slide_type": "skip"
    }
   },
   "outputs": [],
   "source": [
    "del A, B"
   ]
  },
  {
   "cell_type": "markdown",
   "metadata": {
    "slideshow": {
     "slide_type": "slide"
    }
   },
   "source": [
    "## 反応則 `ReactionRule`"
   ]
  },
  {
   "cell_type": "markdown",
   "metadata": {},
   "source": [
    "`Species`ができたところで今度は反応を作ってみる。"
   ]
  },
  {
   "cell_type": "markdown",
   "metadata": {
    "collapsed": true,
    "slideshow": {
     "slide_type": "fragment"
    }
   },
   "source": [
    "反応はおおざっぱに言って、何かの分子種が何かの分子種になること。\n",
    "\n",
    "前者をReactants、後者をProductsと呼ぶ。あとはその反応の速さ（速度定数）を数値で与えれば良い。"
   ]
  },
  {
   "cell_type": "code",
   "execution_count": 9,
   "metadata": {
    "collapsed": false,
    "slideshow": {
     "slide_type": "fragment"
    }
   },
   "outputs": [],
   "source": [
    "rr = ReactionRule()\n",
    "rr.add_reactant(Species(\"A\"))\n",
    "rr.add_product(Species(\"B\"))\n",
    "rr.set_k(1.0)"
   ]
  },
  {
   "cell_type": "markdown",
   "metadata": {},
   "source": [
    "これで分子種`A`が分子種`B`に変る反応を作れた。ここでは反応を定義しているので、`Species`に属性値はなくても良い。"
   ]
  },
  {
   "cell_type": "markdown",
   "metadata": {
    "slideshow": {
     "slide_type": "subslide"
    }
   },
   "source": [
    "確認してみる。与えられた`ReactionRule`がどのようなものかを簡単に知りたい場合は`as_string`関数で見られる。"
   ]
  },
  {
   "cell_type": "code",
   "execution_count": 10,
   "metadata": {
    "collapsed": false
   },
   "outputs": [
    {
     "name": "stdout",
     "output_type": "stream",
     "text": [
      "A>B|1\n"
     ]
    }
   ],
   "source": [
    "print(rr.as_string())"
   ]
  },
  {
   "cell_type": "markdown",
   "metadata": {
    "slideshow": {
     "slide_type": "subslide"
    }
   },
   "source": [
    "結合もこれと同じに記述できる。`A`と`B`の結合によって`C`ができる。"
   ]
  },
  {
   "cell_type": "code",
   "execution_count": 11,
   "metadata": {
    "collapsed": false
   },
   "outputs": [
    {
     "name": "stdout",
     "output_type": "stream",
     "text": [
      "A+B>C|1\n"
     ]
    }
   ],
   "source": [
    "rr = ReactionRule()\n",
    "rr.add_reactant(Species(\"A\"))\n",
    "rr.add_reactant(Species(\"B\"))\n",
    "rr.add_product(Species(\"C\"))\n",
    "rr.set_k(1.0)\n",
    "\n",
    "print(rr.as_string())"
   ]
  },
  {
   "cell_type": "markdown",
   "metadata": {
    "slideshow": {
     "slide_type": "subslide"
    }
   },
   "source": [
    "より読み手に伝わりやすい書き方として以下の便利関数も用意されている。"
   ]
  },
  {
   "cell_type": "code",
   "execution_count": 12,
   "metadata": {
    "collapsed": true
   },
   "outputs": [],
   "source": [
    "rr1 = create_unimolecular_reaction_rule(\n",
    "    Species(\"A\"), Species(\"B\"), 1.0)\n",
    "rr2 = create_binding_reaction_rule(\n",
    "    Species(\"A\"), Species(\"B\"), Species(\"C\"), 1.0)\n",
    "rr3 = create_unbinding_reaction_rule(\n",
    "    Species(\"C\"), Species(\"A\"), Species(\"B\"), 1.0)"
   ]
  },
  {
   "cell_type": "markdown",
   "metadata": {
    "slideshow": {
     "slide_type": "slide"
    }
   },
   "source": [
    "## ネットワークモデル `NetworkModel`"
   ]
  },
  {
   "cell_type": "markdown",
   "metadata": {},
   "source": [
    "以上で`Model`に含まれる要素を作れるようになった。"
   ]
  },
  {
   "cell_type": "code",
   "execution_count": 13,
   "metadata": {
    "collapsed": true
   },
   "outputs": [],
   "source": [
    "sp1 = Species(\"A\", \"0.005\", \"1\")\n",
    "sp2 = Species(\"B\", \"0.005\", \"1\")\n",
    "sp3 = Species(\"C\", \"0.01\", \"0.5\")\n",
    "rr1 = create_binding_reaction_rule(\n",
    "    Species(\"A\"), Species(\"B\"), Species(\"C\"), 0.01)\n",
    "rr2 = create_unbinding_reaction_rule(\n",
    "    Species(\"C\"), Species(\"A\"), Species(\"B\"), 0.3)"
   ]
  },
  {
   "cell_type": "markdown",
   "metadata": {
    "slideshow": {
     "slide_type": "-"
    }
   },
   "source": [
    "あとはこれらを`Model`に追加していく。"
   ]
  },
  {
   "cell_type": "markdown",
   "metadata": {
    "slideshow": {
     "slide_type": "subslide"
    }
   },
   "source": [
    "`Species`の追加は`add_species_attribute`で、`ReactionRule`の追加は`add_reaction_rule`で行う。"
   ]
  },
  {
   "cell_type": "code",
   "execution_count": 14,
   "metadata": {
    "collapsed": true
   },
   "outputs": [],
   "source": [
    "m = NetworkModel()\n",
    "m.add_species_attribute(sp1)\n",
    "m.add_species_attribute(sp2)\n",
    "m.add_species_attribute(sp3)\n",
    "m.add_reaction_rule(rr1)\n",
    "m.add_reaction_rule(rr2)"
   ]
  },
  {
   "cell_type": "markdown",
   "metadata": {},
   "source": [
    "これで簡単な結合とかい離のモデルを作ることができた。"
   ]
  },
  {
   "cell_type": "markdown",
   "metadata": {
    "slideshow": {
     "slide_type": "subslide"
    }
   },
   "source": [
    "モデルの中身を取り出すときには`species_attributes`と`reaction_rules`を使う。`list_species`はまた別物なので注意！"
   ]
  },
  {
   "cell_type": "code",
   "execution_count": 15,
   "metadata": {
    "collapsed": false
   },
   "outputs": [
    {
     "name": "stdout",
     "output_type": "stream",
     "text": [
      "[<ecell4.core.Species object at 0x7f001b3e46a8>, <ecell4.core.Species object at 0x7f001b3e4678>, <ecell4.core.Species object at 0x7f001b3e4708>]\n",
      "[<ecell4.core.ReactionRule object at 0x7f001b3e46a8>, <ecell4.core.ReactionRule object at 0x7f001b3e4678>]\n"
     ]
    }
   ],
   "source": [
    "print(m.species_attributes())\n",
    "print(m.reaction_rules())"
   ]
  },
  {
   "cell_type": "markdown",
   "metadata": {
    "slideshow": {
     "slide_type": "subslide"
    }
   },
   "source": [
    "ちなみに、特に`Species`の属性を必要としない計算(常微分方程式やGillespie法)では`add_species_attribute`は省略しても良い。"
   ]
  },
  {
   "cell_type": "markdown",
   "metadata": {
    "slideshow": {
     "slide_type": "slide"
    }
   },
   "source": [
    "## E-Cell4を使ってModelを簡単に計算してみる"
   ]
  },
  {
   "cell_type": "markdown",
   "metadata": {
    "slideshow": {
     "slide_type": "subslide"
    }
   },
   "source": [
    "`World`と`Simulator`の説明がまだだが、早くシミュレーションを走らせたい人のためにここで一度計算を行なってみる。"
   ]
  },
  {
   "cell_type": "code",
   "execution_count": 16,
   "metadata": {
    "collapsed": false,
    "slideshow": {
     "slide_type": "fragment"
    }
   },
   "outputs": [
    {
     "data": {
      "image/png": "[encoded data removed]",
      "text/plain": [
       "<matplotlib.figure.Figure at 0x7f0057ebc828>"
      ]
     },
     "metadata": {},
     "output_type": "display_data"
    }
   ],
   "source": [
    "# XXX: 'm' is a NetworkModel, which is described in the section above.\n",
    "run_simulation(10, {'C': 60}, volume=1.0, model=m)"
   ]
  },
  {
   "cell_type": "markdown",
   "metadata": {
    "slideshow": {
     "slide_type": "subslide"
    }
   },
   "source": [
    "`run_simulation`は分子数を記録して時系列をプロットしてくれる。\n",
    "\n",
    "- 1つ目の引数は計算時間で、今回は10秒間（0.1秒刻み）。\n",
    "- 2つ目の引数は初期値で、分子種`C`を60分子とした。\n",
    "- `volume`は計算する空間の容積。\n",
    "- `model`はモデル。先程の`NetworkModel`を与えた。"
   ]
  },
  {
   "cell_type": "markdown",
   "metadata": {
    "slideshow": {
     "slide_type": "subslide"
    }
   },
   "source": [
    "この味気ないプロットに満足できない人のためには確率論的計算手法というものがある。\n",
    "\n",
    "- Gillespie D.T., \"Exact stochastic simulation of coupled chemical reactions\", J. Phys. Chem., 81(25), 2340–2361 (1977)"
   ]
  },
  {
   "cell_type": "code",
   "execution_count": 17,
   "metadata": {
    "collapsed": false,
    "slideshow": {
     "slide_type": "fragment"
    }
   },
   "outputs": [
    {
     "data": {
      "image/png": "[encoded data removed]",
      "text/plain": [
       "<matplotlib.figure.Figure at 0x7f001aed9ba8>"
      ]
     },
     "metadata": {},
     "output_type": "display_data"
    }
   ],
   "source": [
    "run_simulation(10, {'C': 60}, volume=1.0, model=m, solver='gillespie')"
   ]
  },
  {
   "cell_type": "markdown",
   "metadata": {},
   "source": [
    "全く同じモデルを異る手法で計算することができた。これは問題と計算手法が分離されているからこそなせる技である。"
   ]
  },
  {
   "cell_type": "markdown",
   "metadata": {
    "slideshow": {
     "slide_type": "slide"
    }
   },
   "source": [
    "## モデルを記述するE-Cell4の特殊記法"
   ]
  },
  {
   "cell_type": "markdown",
   "metadata": {
    "slideshow": {
     "slide_type": "subslide"
    }
   },
   "source": [
    "E-Cell4を使って`Species`と`ReactionRule`を作り、`NetworkModel`に登録して簡単に計算することができるようになった。\n",
    "\n",
    "しかし、モデルの記述はこのように簡単な結合とかい離だけであっても煩雑でモデルの読み手に伝わりづらい。\n",
    "\n",
    "そこで、E-Cell4ではこのモデルを記述するための独自の構文をいくつか勝手に用意している。"
   ]
  },
  {
   "cell_type": "markdown",
   "metadata": {
    "slideshow": {
     "slide_type": "subslide"
    }
   },
   "source": [
    "まずは`ReactionRule`について見てみると、"
   ]
  },
  {
   "cell_type": "code",
   "execution_count": 18,
   "metadata": {
    "collapsed": false,
    "slideshow": {
     "slide_type": "fragment"
    }
   },
   "outputs": [],
   "source": [
    "with reaction_rules():\n",
    "    A + B > C | 0.01  # equivalent to create_binding_reaction_rule\n",
    "    C > A + B | 0.3   # equivalent to create_unbinding_reaction_rule\n",
    "\n",
    "m = get_model()"
   ]
  },
  {
   "cell_type": "markdown",
   "metadata": {},
   "source": [
    "- 特殊記法を使う時には`with`ステートメントを利用する。この下でインデントを続けている限りは特殊構文が利用できる。\n",
    "- `reaction_rules`のあとに`()`を忘れずに。\n",
    "- 構文については見ての通りで、セパレータ`|`の後に反応速度定数として数値を1つだけ与える。\n",
    "- 構文自体はあくまでもPythonであるため、不要な改行は許されない。"
   ]
  },
  {
   "cell_type": "markdown",
   "metadata": {
    "slideshow": {
     "slide_type": "subslide"
    }
   },
   "source": [
    "また、可逆反応については特別な記法があり、それを使えばより簡単になる。"
   ]
  },
  {
   "cell_type": "code",
   "execution_count": 19,
   "metadata": {
    "collapsed": false,
    "slideshow": {
     "slide_type": "fragment"
    }
   },
   "outputs": [
    {
     "data": {
      "image/png": "[encoded data removed]",
      "text/plain": [
       "<matplotlib.figure.Figure at 0x7f001aecd7b8>"
      ]
     },
     "metadata": {},
     "output_type": "display_data"
    }
   ],
   "source": [
    "with reaction_rules():\n",
    "    A + B == C | (0.01, 0.3)\n",
    "\n",
    "run_simulation(10, {'C': 60})"
   ]
  },
  {
   "cell_type": "markdown",
   "metadata": {
    "slideshow": {
     "slide_type": "subslide"
    }
   },
   "source": [
    "可逆反応の記号は`==`で、セパレータの後には`tuple`を用いて2つの速度定数を与える。\n",
    "\n",
    "`run_simulation`関数は引数`model`を指定しない場合は自分で`get_model()`を呼んでモデルとするので、このように省略可能な場合がある。"
   ]
  },
  {
   "cell_type": "markdown",
   "metadata": {
    "slideshow": {
     "slide_type": "fragment"
    }
   },
   "source": [
    "$${\\frac{\\mathrm{d[A]}}{\\mathrm{d}t}=\\frac{\\mathrm{d[B]}}{\\mathrm{d}t}=-0.01\\mathrm{[A][B]}+0.3\\mathrm{[C]}\\\\\n",
    "\\frac{\\mathrm{d[C]}}{\\mathrm{d}t}=+0.01\\mathrm{[A][B]}-0.3\\mathrm{[C]}\n",
    "}$$"
   ]
  },
  {
   "cell_type": "markdown",
   "metadata": {
    "slideshow": {
     "slide_type": "subslide"
    }
   },
   "source": [
    "### 発現や分解の記述\n",
    "\n",
    "発現や分解の反応では、反応の左辺か右辺がなにもないことになるが、E-Cell4の特殊記法では残念ながらこれらをそのまま書くことはできない。\n",
    "\n",
    "例えば、"
   ]
  },
  {
   "cell_type": "code",
   "execution_count": 20,
   "metadata": {
    "collapsed": false,
    "slideshow": {
     "slide_type": "fragment"
    }
   },
   "outputs": [
    {
     "ename": "SyntaxError",
     "evalue": "invalid syntax (<ipython-input-20-beb02b0702dd>, line 2)",
     "output_type": "error",
     "traceback": [
      "\u001b[1;36m  File \u001b[1;32m\"<ipython-input-20-beb02b0702dd>\"\u001b[1;36m, line \u001b[1;32m2\u001b[0m\n\u001b[1;33m    A > | 1.0  # XXX: will throw SyntaxError\u001b[0m\n\u001b[1;37m        ^\u001b[0m\n\u001b[1;31mSyntaxError\u001b[0m\u001b[1;31m:\u001b[0m invalid syntax\n"
     ]
    }
   ],
   "source": [
    "with reaction_rules():\n",
    "    A > | 1.0  # XXX: will throw SyntaxError\n",
    "    > A | 1.0  # XXX: will throw SyntaxError"
   ]
  },
  {
   "cell_type": "markdown",
   "metadata": {
    "slideshow": {
     "slide_type": "subslide"
    }
   },
   "source": [
    "これらを表現するために特殊記号`~`を用いる。\n",
    "\n",
    "`ReactionRule`を記述する際に`Species`の前に`~`記号を置くと反応上のその分子種の量論係数が0になる。簡単に言えば、単に無いものとみなされる。"
   ]
  },
  {
   "cell_type": "code",
   "execution_count": 21,
   "metadata": {
    "collapsed": true,
    "slideshow": {
     "slide_type": "fragment"
    }
   },
   "outputs": [],
   "source": [
    "with reaction_rules():\n",
    "    A > ~A | 1.0  # XXX: create_degradation_reaction_rule\n",
    "    ~A > A | 1.0  # XXX: create_synthesis_reaction_rule"
   ]
  },
  {
   "cell_type": "markdown",
   "metadata": {},
   "source": [
    "$${\\frac{\\mathrm{d[A]}}{\\mathrm{d}t}=1.0-1.0\\mathrm{[A]}}$$"
   ]
  },
  {
   "cell_type": "code",
   "execution_count": 22,
   "metadata": {
    "collapsed": true,
    "slideshow": {
     "slide_type": "skip"
    }
   },
   "outputs": [],
   "source": [
    "m = get_model()"
   ]
  },
  {
   "cell_type": "markdown",
   "metadata": {
    "slideshow": {
     "slide_type": "slide"
    }
   },
   "source": [
    "## 常微分方程式ソルバで`World`と`Simulator`"
   ]
  },
  {
   "cell_type": "markdown",
   "metadata": {},
   "source": [
    "`Model`が理解できれば`World`と`Simulator`はさほど難しくはない。\n",
    "\n",
    "さきほどの`run_simulation`関数で与えた`volume`と`{'C': 60}`などが`World`で、`solver`が`Simulator`に相当する。\n",
    "\n",
    "実際に`run_simulation`がしている作業を自分で書けるようにする。\n",
    "\n",
    "`run_simulation`は標準で常微分方程式ソルバ`ode`を使う。"
   ]
  },
  {
   "cell_type": "markdown",
   "metadata": {
    "slideshow": {
     "slide_type": "subslide"
    }
   },
   "source": [
    "### `ODEWorld`の準備\n",
    "\n",
    "まずは`World`を作る。"
   ]
  },
  {
   "cell_type": "code",
   "execution_count": 23,
   "metadata": {
    "collapsed": true
   },
   "outputs": [],
   "source": [
    "w = ode.ODEWorld(Real3(1, 1, 1))"
   ]
  },
  {
   "cell_type": "markdown",
   "metadata": {},
   "source": [
    "- `Real3`は3つの実数値をまとめた3次元ベクトル。\n",
    "- `World`は1つ目の引数として直方体の三辺の長さを受け取る。この例では一辺が1の立方体とした。"
   ]
  },
  {
   "cell_type": "code",
   "execution_count": 24,
   "metadata": {
    "collapsed": false,
    "slideshow": {
     "slide_type": "subslide"
    }
   },
   "outputs": [
    {
     "name": "stdout",
     "output_type": "stream",
     "text": [
      "0.0\n",
      "<ecell4.core.Real3 object at 0x7f001b3e4e70>\n",
      "1.0\n"
     ]
    }
   ],
   "source": [
    "print(w.t())\n",
    "print(w.edge_lengths())\n",
    "print(w.volume())"
   ]
  },
  {
   "cell_type": "markdown",
   "metadata": {},
   "source": [
    "- 時刻は`t`関数で得られる。\n",
    "- 引数に与えた直方体の三辺は`edge_lengths`関数。\n",
    "- 直方体の体積だけ知りたければ`volume`関数。"
   ]
  },
  {
   "cell_type": "markdown",
   "metadata": {
    "slideshow": {
     "slide_type": "subslide"
    }
   },
   "source": [
    "箱ができたので次は実際に分子を加えてみる."
   ]
  },
  {
   "cell_type": "code",
   "execution_count": 25,
   "metadata": {
    "collapsed": false,
    "slideshow": {
     "slide_type": "fragment"
    }
   },
   "outputs": [
    {
     "name": "stdout",
     "output_type": "stream",
     "text": [
      "60\n"
     ]
    }
   ],
   "source": [
    "w.add_molecules(Species('C'), 60)\n",
    "print(w.num_molecules(Species('C')))"
   ]
  },
  {
   "cell_type": "markdown",
   "metadata": {
    "slideshow": {
     "slide_type": "-"
    }
   },
   "source": [
    "- 分子を加えるときは`add_molecules`。\n",
    "- 減らすときはl`remove_molecules`。\n",
    "- その数を知りたければ`num_molecules`。\n",
    "\n",
    "どれも1つ目の引数は問題とする分子種`Species`。"
   ]
  },
  {
   "cell_type": "markdown",
   "metadata": {
    "slideshow": {
     "slide_type": "subslide"
    }
   },
   "source": [
    "ただし、`ode`ソルバでは分子数は実数値として扱われるが、これらの関数では整数値しか扱うことができない。\n",
    "\n",
    "実数を扱いたい場合は`set_value`と`get_value`を使う。"
   ]
  },
  {
   "cell_type": "markdown",
   "metadata": {
    "slideshow": {
     "slide_type": "subslide"
    }
   },
   "source": [
    "### ODESimulatorの作成と実行\n",
    "\n",
    "`Simulator`は`Model`と`World`を与えることで作れる。"
   ]
  },
  {
   "cell_type": "code",
   "execution_count": 26,
   "metadata": {
    "collapsed": true,
    "slideshow": {
     "slide_type": "skip"
    }
   },
   "outputs": [],
   "source": [
    "with reaction_rules():\n",
    "    A + B == C | (0.01, 0.3)\n",
    "\n",
    "m = get_model()"
   ]
  },
  {
   "cell_type": "code",
   "execution_count": 27,
   "metadata": {
    "collapsed": true
   },
   "outputs": [],
   "source": [
    "sim = ode.ODESimulator(m, w)"
   ]
  },
  {
   "cell_type": "markdown",
   "metadata": {
    "slideshow": {
     "slide_type": "fragment"
    }
   },
   "source": [
    "あとは`run`関数を呼べば計算が行われる。"
   ]
  },
  {
   "cell_type": "code",
   "execution_count": 28,
   "metadata": {
    "collapsed": false
   },
   "outputs": [],
   "source": [
    "sim.run(10)"
   ]
  },
  {
   "cell_type": "markdown",
   "metadata": {
    "slideshow": {
     "slide_type": "fragment"
    }
   },
   "source": [
    "`World`の状態がどう変わったかをみてみよう。計算が進み、`C`の数が減っている。"
   ]
  },
  {
   "cell_type": "code",
   "execution_count": 29,
   "metadata": {
    "collapsed": false
   },
   "outputs": [
    {
     "name": "stdout",
     "output_type": "stream",
     "text": [
      "10.0 30\n"
     ]
    }
   ],
   "source": [
    "print(w.t(), w.num_molecules(Species('C')))"
   ]
  },
  {
   "cell_type": "markdown",
   "metadata": {
    "slideshow": {
     "slide_type": "fragment"
    }
   },
   "source": [
    "`World`はあくまでも現在もしくはある時点での状態を表すもので、これだけでは途中の経過を追うことができない。"
   ]
  },
  {
   "cell_type": "markdown",
   "metadata": {
    "slideshow": {
     "slide_type": "subslide"
    }
   },
   "source": [
    "時系列を得るためには`Observer`を使う。"
   ]
  },
  {
   "cell_type": "code",
   "execution_count": 30,
   "metadata": {
    "collapsed": false
   },
   "outputs": [
    {
     "name": "stdout",
     "output_type": "stream",
     "text": [
      "[[10.0, 29.9944451748767, 29.9944451748767, 30.005554825123323], [11.0, 29.997740413001797, 29.997740413001797, 30.002259586998225], [12.0, 29.999080867079556, 29.999080867079556, 30.000919132920465], [13.0, 29.99962612730928, 29.99962612730928, 30.00037387269074], [14.0, 29.99984792157508, 29.99984792157508, 30.000152078424943], [15.0, 29.999938139869265, 29.999938139869265, 30.000061860130756], [16.0, 29.999974837499124, 29.999974837499124, 30.000025162500897], [17.0, 29.9999897647921, 29.9999897647921, 30.00001023520792], [18.0, 29.999995836682903, 29.999995836682903, 30.00000416331712], [19.0, 29.999998306511337, 29.999998306511337, 30.000001693488684], [20.0, 29.999999311149324, 29.999999311149324, 30.000000688850697]]\n"
     ]
    }
   ],
   "source": [
    "obs = FixedIntervalNumberObserver(1, ('A', 'B', 'C'))\n",
    "sim.run(10, obs)\n",
    "print(obs.data())"
   ]
  },
  {
   "cell_type": "markdown",
   "metadata": {
    "slideshow": {
     "slide_type": "fragment"
    }
   },
   "source": [
    "`Observer`には様々な種類があるが、時系列を得るには`FixedIntervalNumberObserver`を使う。\n",
    "\n",
    "決まった時間幅で分子数を記録する。1つ目の引数が時間幅で、2つ目の引数が分子種。その結果は`data`関数で引き出せる。\n",
    "\n",
    "`viz.plot_number_observer`関数で簡単に時系列をプロットすることもできる。"
   ]
  },
  {
   "cell_type": "markdown",
   "metadata": {
    "slideshow": {
     "slide_type": "subslide"
    }
   },
   "source": [
    "### まとめ\n",
    "\n",
    "ここまでの内容をまとめて書くと、"
   ]
  },
  {
   "cell_type": "code",
   "execution_count": 31,
   "metadata": {
    "collapsed": false
   },
   "outputs": [
    {
     "data": {
      "image/png": "[encoded data removed]",
      "text/plain": [
       "<matplotlib.figure.Figure at 0x7f001aeb1ac8>"
      ]
     },
     "metadata": {},
     "output_type": "display_data"
    }
   ],
   "source": [
    "w = ode.ODEWorld(Real3(1, 1, 1))\n",
    "w.add_molecules(Species('C'), 60)\n",
    "\n",
    "sim = ode.ODESimulator(m, w)\n",
    "obs = FixedIntervalNumberObserver(0.1, ('A', 'B', 'C'))\n",
    "sim.run(10, obs)\n",
    "\n",
    "viz.plot_number_observer(obs)"
   ]
  },
  {
   "cell_type": "markdown",
   "metadata": {
    "slideshow": {
     "slide_type": "subslide"
    }
   },
   "source": [
    "### ソルバを切り替える\n",
    "\n",
    "`run_simulation`で試した通り、確率論的手法に切り替えることはさほど難しくない。"
   ]
  },
  {
   "cell_type": "code",
   "execution_count": 32,
   "metadata": {
    "collapsed": false,
    "slideshow": {
     "slide_type": "fragment"
    }
   },
   "outputs": [
    {
     "data": {
      "image/png": "[encoded data removed]",
      "text/plain": [
       "<matplotlib.figure.Figure at 0x7f001ad34c88>"
      ]
     },
     "metadata": {},
     "output_type": "display_data"
    }
   ],
   "source": [
    "# ode.ODEWorld -> gillespie.GillespieWorld\n",
    "w = gillespie.GillespieWorld(Real3(1, 1, 1))\n",
    "w.add_molecules(Species('C'), 60)\n",
    "\n",
    "# ode.ODESimulator -> gillespie.GillespieSimulator\n",
    "sim = gillespie.GillespieSimulator(m, w)\n",
    "obs = FixedIntervalNumberObserver(0.1, ('A', 'B', 'C'))\n",
    "sim.run(10, obs)\n",
    "\n",
    "viz.plot_number_observer(obs)"
   ]
  },
  {
   "cell_type": "markdown",
   "metadata": {
    "slideshow": {
     "slide_type": "slide"
    }
   },
   "source": [
    "## 練習問題"
   ]
  },
  {
   "cell_type": "markdown",
   "metadata": {
    "slideshow": {
     "slide_type": "fragment"
    }
   },
   "source": [
    "- **`Model`に関する練習**： モデルといえば振動モデルが華だが、今回は質量作用則以外の反応式は使えない。質量作用則だけを用いて振動モデルを作るためにはいくつの反応が必要だろうか？できるだけ少ない反応数で作る方法はないか？"
   ]
  },
  {
   "cell_type": "markdown",
   "metadata": {
    "slideshow": {
     "slide_type": "fragment"
    }
   },
   "source": [
    "- **`run_simulation`に関する練習**: `gillespie`ソルバは確率論的手法と呼ばれているが、分子の数が多くなれば、決定論的な結果に近づくと考えられる。実際に容積や分子数を増やしてみて、その結果がどうなるか確認する。"
   ]
  },
  {
   "cell_type": "markdown",
   "metadata": {
    "slideshow": {
     "slide_type": "subslide"
    }
   },
   "source": [
    "- **`World`と`Simulator`に関する練習**: `run_simulation`関数では連続した計算しかできない。`World`と`Simulator`を使って、計算を5秒間行った後、分子の数を変えて再び5秒の計算を行ってみる。また、その結果を`Observer`を用いてプロットしてみよう。ただし、`World`の状態を変えた場合は`Simulator`を`initialize()`しなければならないので注意。"
   ]
  },
  {
   "cell_type": "markdown",
   "metadata": {
    "slideshow": {
     "slide_type": "fragment"
    }
   },
   "source": [
    "- **`Observer`に関する練習**: `viz.plot_number_observer`関数は複数の`NumberObserver`を受け取って重ねてプロットすることができる。そこで、1つのモデルを作成し、`ode`と`gillespie`のそれぞれでシミュレーションを行い,結果を記録した2つの`Observer`を同時に表示させて比較する。"
   ]
  }
 ],
 "metadata": {
  "celltoolbar": "Slideshow",
  "kernelspec": {
   "display_name": "Python 3",
   "language": "python",
   "name": "python3"
  },
  "language_info": {
   "codemirror_mode": {
    "name": "ipython",
    "version": 3
   },
   "file_extension": ".py",
   "mimetype": "text/x-python",
   "name": "python",
   "nbconvert_exporter": "python",
   "pygments_lexer": "ipython3",
   "version": "3.4.3"
  }
 },
 "nbformat": 4,
 "nbformat_minor": 0
}
